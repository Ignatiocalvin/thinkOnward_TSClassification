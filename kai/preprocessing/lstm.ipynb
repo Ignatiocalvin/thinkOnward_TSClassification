{
 "cells": [
  {
   "cell_type": "code",
   "execution_count": 1,
   "metadata": {},
   "outputs": [
    {
     "name": "stdout",
     "output_type": "stream",
     "text": [
      "Cuda available:  True\n",
      "Cuda device count:  1\n",
      "Cuda current device:  0\n",
      "Cuda device name:  NVIDIA GeForce RTX 3060\n",
      "Cuda device capability:  (8, 6)\n",
      "Cuda device memory:  12884246528\n",
      "Cuda device memory:  11.9993896484375 GB\n",
      "Cuda device memory:  12287.375 MB\n",
      "Cuda device memory:  12582272.0 KB\n",
      "Cuda version:  11.8\n",
      "Cuda version:  ['11', '8']\n",
      "Cuda version:  11\n",
      "Cuda version:  8\n"
     ]
    }
   ],
   "source": [
    "import torch\n",
    "print(\"Cuda available: \", torch.cuda.is_available())\n",
    "print(\"Cuda device count: \", torch.cuda.device_count())\n",
    "print(\"Cuda current device: \", torch.cuda.current_device())\n",
    "print(\"Cuda device name: \", torch.cuda.get_device_name(0))\n",
    "print(\"Cuda device capability: \", torch.cuda.get_device_capability(0))\n",
    "print(\"Cuda device memory: \", torch.cuda.get_device_properties(0).total_memory)\n",
    "print(\"Cuda device memory: \", torch.cuda.get_device_properties(0).total_memory/1024**3, \"GB\")\n",
    "print(\"Cuda device memory: \", torch.cuda.get_device_properties(0).total_memory/1024**2, \"MB\")\n",
    "print(\"Cuda device memory: \", torch.cuda.get_device_properties(0).total_memory/1024, \"KB\")\n",
    "# version\n",
    "print(\"Cuda version: \", torch.version.cuda)\n",
    "print(\"Cuda version: \", torch.version.cuda.split(\".\"))\n",
    "print(\"Cuda version: \", torch.version.cuda.split(\".\")[0])\n",
    "print(\"Cuda version: \", torch.version.cuda.split(\".\")[1])"
   ]
  },
  {
   "cell_type": "code",
   "execution_count": 2,
   "metadata": {},
   "outputs": [],
   "source": [
    "# importaing the required libraries\n",
    "import os\n",
    "import sys\n",
    "base_path = r\"C:\\Users\\KAI\\Coding\\ThinkOnward_challenge\\thinkOnward_TSClassification\"\n",
    "data_path = r\"\\data\\building-instinct-starter-notebook\\Starter notebook\"\n",
    "sys.path.append(base_path+data_path)\n",
    "path = r\"C:\\Users\\KAI\\Coding\\ThinkOnward_challenge\\thinkOnward_TSClassification\\kai\"\n",
    "sys.path.append(base_path+path)\n",
    "import pandas as pd\n",
    "import numpy as np\n",
    "from sklearn.model_selection import train_test_split\n",
    "from sklearn.pipeline import Pipeline\n",
    "from sklearn.compose import ColumnTransformer\n",
    "from sklearn.preprocessing import StandardScaler, OneHotEncoder\n",
    "from sklearn.ensemble import RandomForestClassifier\n",
    "from sklearn.metrics import f1_score\n",
    "import matplotlib.pyplot as plt\n",
    "from tqdm import tqdm\n",
    "\n",
    "from utils import (calculate_average_hourly_energy_consumption, train_model, get_pred, calculate_hierarchical_f1_score,\n",
    "sample_submission_generator)"
   ]
  },
  {
   "cell_type": "code",
   "execution_count": 3,
   "metadata": {},
   "outputs": [],
   "source": [
    "def load_standard_df(folder_path):\n",
    "    \"\"\"\n",
    "    Process multiple parquet files in a folder and return a pandas DataFrame with each row corresponding to one file in the folder.\n",
    "\n",
    "    Parameters:\n",
    "    - folder_path (str): Path to the folder containing parquet files.\n",
    "    \n",
    "    Returns:\n",
    "    - df (pd.DataFrame): A pandas DataFrame with each row corresponding to one file in the folder (i.e. one building).\n",
    "    \"\"\"\n",
    "    # Initialize an empty list to store individual DataFrames for each file\n",
    "    result_dfs = []\n",
    "\n",
    "    # Iterate through all files in the folder_path\n",
    "    for file_name in tqdm(os.listdir(folder_path)):\n",
    "        if file_name.endswith(\".parquet\"):\n",
    "            # Extract the bldg_id from the file name\n",
    "            bldg_id = int(file_name.split('.')[0])\n",
    "\n",
    "            # Construct the full file path\n",
    "            file_path = os.path.join(folder_path, file_name)\n",
    "\n",
    "            # Read the original parquet file\n",
    "            df = pd.read_parquet(file_path)\n",
    "\n",
    "            # Convert 'timestamp' column to datetime\n",
    "            df['timestamp'] = pd.to_datetime(df['timestamp'])\n",
    "            result_df = df.pivot_table(values='out.electricity.total.energy_consumption', index='bldg_id', columns=['timestamp'])\n",
    "\n",
    "            # Add 'bldg_id' index with values corresponding to the names of the parquet files\n",
    "            result_df['bldg_id'] = bldg_id\n",
    "            result_df.set_index('bldg_id', inplace=True)\n",
    "\n",
    "            # Append the result_df to the list\n",
    "            result_dfs.append(result_df)\n",
    "\n",
    "    # Concatenate all individual DataFrames into a single DataFrame\n",
    "    output_df = pd.concat(result_dfs, ignore_index=False)\n",
    "\n",
    "    return output_df"
   ]
  },
  {
   "cell_type": "code",
   "execution_count": 4,
   "metadata": {},
   "outputs": [
    {
     "name": "stderr",
     "output_type": "stream",
     "text": [
      " 46%|████▌     | 3313/7200 [07:51<08:08,  7.96it/s]   "
     ]
    }
   ],
   "source": [
    "file_path = base_path + data_path + r\"\\building-instinct-train-data\"\n",
    "df_features = load_standard_df(file_path)"
   ]
  }
 ],
 "metadata": {
  "kernelspec": {
   "display_name": "Python 3",
   "language": "python",
   "name": "python3"
  },
  "language_info": {
   "codemirror_mode": {
    "name": "ipython",
    "version": 3
   },
   "file_extension": ".py",
   "mimetype": "text/x-python",
   "name": "python",
   "nbconvert_exporter": "python",
   "pygments_lexer": "ipython3",
   "version": "3.10.14"
  }
 },
 "nbformat": 4,
 "nbformat_minor": 2
}
