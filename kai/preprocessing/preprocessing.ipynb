{
 "cells": [
  {
   "cell_type": "code",
   "execution_count": 7,
   "metadata": {},
   "outputs": [],
   "source": [
    "# importaing the required libraries\n",
    "import os\n",
    "import sys\n",
    "base_path = r\"C:\\Users\\KAI\\Coding\\ThinkOnward_challenge\\thinkOnward_TSClassification\"\n",
    "data_path = r\"\\data\\building-instinct-starter-notebook\\Starter notebook\"\n",
    "sys.path.append(base_path+data_path)\n",
    "path = r\"C:\\Users\\KAI\\Coding\\ThinkOnward_challenge\\thinkOnward_TSClassification\\kai\"\n",
    "sys.path.append(base_path+path)\n",
    "import pandas as pd\n",
    "import numpy as np\n",
    "from sklearn.model_selection import train_test_split\n",
    "from sklearn.pipeline import Pipeline\n",
    "from sklearn.compose import ColumnTransformer\n",
    "from sklearn.preprocessing import StandardScaler, OneHotEncoder\n",
    "from sklearn.ensemble import RandomForestClassifier\n",
    "from sklearn.metrics import f1_score\n",
    "import matplotlib.pyplot as plt\n",
    "from tqdm import tqdm\n",
    "\n",
    "from utils import (calculate_average_hourly_energy_consumption, train_model, get_pred, calculate_hierarchical_f1_score,\n",
    "sample_submission_generator)\n",
    "from preprocessing import Preprocessor"
   ]
  },
  {
   "cell_type": "code",
   "execution_count": 17,
   "metadata": {},
   "outputs": [
    {
     "name": "stderr",
     "output_type": "stream",
     "text": [
      "100%|██████████| 1450/1450 [00:56<00:00, 25.76it/s]\n"
     ]
    }
   ],
   "source": [
    "load_filepath_labels = os.path.join(os.getcwd(),'building-instinct-train-label', 'train_label.parquet')#path to the train label file\n",
    "df_targets = pd.read_parquet(load_filepath_labels, engine='pyarrow')\n",
    "target_columns = df_targets.columns\n",
    "\n",
    "for type in tqdm([\"monthly\", \"weekly\", \"daily\"]):\n",
    "    # train parquet files\n",
    "    file_path = base_path + data_path + r\"\\building-instinct-train-data\"\n",
    "    df_features = Preprocessor.calculate_average_energy_consumption(file_path, type=type)\n",
    "    df_features.sort_index(inplace=True)\n",
    "    df = pd.concat([df_features, df_targets], axis=1)\n",
    "\n",
    "    df.to_csv(f'{base_path}\\preprocessed_data\\{type}_train.csv')\n",
    "\n",
    "    # test parquet files\n",
    "    file_path = base_path + data_path + r\"\\building-instinct-test-data\"\n",
    "    df = Preprocessor.calculate_average_energy_consumption(file_path, type=type)\n",
    "    df.sort_index(inplace=True)\n",
    "    \n",
    "    df.to_csv(f'{base_path}\\preprocessed_data\\{type}_test.csv')\n",
    "\n"
   ]
  },
  {
   "cell_type": "code",
   "execution_count": 19,
   "metadata": {},
   "outputs": [
    {
     "data": {
      "text/plain": [
       "Index(['building_stock_type', 'in.comstock_building_type_group_com',\n",
       "       'in.heating_fuel_com', 'in.hvac_category_com',\n",
       "       'in.number_of_stories_com', 'in.ownership_type_com', 'in.vintage_com',\n",
       "       'in.wall_construction_type_com', 'in.tstat_clg_sp_f..f_com',\n",
       "       'in.tstat_htg_sp_f..f_com', 'in.weekday_opening_time..hr_com',\n",
       "       'in.weekday_operating_hours..hr_com', 'in.bedrooms_res',\n",
       "       'in.cooling_setpoint_res', 'in.heating_setpoint_res',\n",
       "       'in.geometry_building_type_recs_res', 'in.geometry_floor_area_res',\n",
       "       'in.geometry_foundation_type_res', 'in.geometry_wall_type_res',\n",
       "       'in.heating_fuel_res', 'in.income_res', 'in.roof_material_res',\n",
       "       'in.tenure_res', 'in.vacancy_status_res', 'in.vintage_res'],\n",
       "      dtype='object')"
      ]
     },
     "execution_count": 19,
     "metadata": {},
     "output_type": "execute_result"
    }
   ],
   "source": [
    "df_targets.columns"
   ]
  },
  {
   "cell_type": "code",
   "execution_count": 18,
   "metadata": {},
   "outputs": [
    {
     "name": "stdout",
     "output_type": "stream",
     "text": [
      "Index(['bldg_id', '(1, 0)', '(1, 1)', '(1, 2)', '(1, 3)', '(1, 4)', '(1, 5)',\n",
      "       '(1, 6)', '(1, 7)', '(1, 8)',\n",
      "       ...\n",
      "       'in.geometry_building_type_recs_res', 'in.geometry_floor_area_res',\n",
      "       'in.geometry_foundation_type_res', 'in.geometry_wall_type_res',\n",
      "       'in.heating_fuel_res', 'in.income_res', 'in.roof_material_res',\n",
      "       'in.tenure_res', 'in.vacancy_status_res', 'in.vintage_res'],\n",
      "      dtype='object', length=8786)\n"
     ]
    }
   ],
   "source": [
    "df = pd.read_csv(f'{base_path}\\preprocessed_data\\daily_train.csv')\n",
    "print(df.columns)"
   ]
  },
  {
   "cell_type": "code",
   "execution_count": 24,
   "metadata": {},
   "outputs": [
    {
     "name": "stderr",
     "output_type": "stream",
     "text": [
      "100%|██████████| 7200/7200 [04:53<00:00, 24.51it/s]\n",
      " 33%|███▎      | 1/3 [05:42<11:24, 342.33s/it]"
     ]
    },
    {
     "name": "stdout",
     "output_type": "stream",
     "text": [
      "monthly-0.5390841394336244\n"
     ]
    },
    {
     "name": "stderr",
     "output_type": "stream",
     "text": [
      "100%|██████████| 7200/7200 [05:07<00:00, 23.44it/s]\n",
      " 67%|██████▋   | 2/3 [12:31<06:21, 381.37s/it]"
     ]
    },
    {
     "name": "stdout",
     "output_type": "stream",
     "text": [
      "weekly-0.537573044442947\n"
     ]
    },
    {
     "name": "stderr",
     "output_type": "stream",
     "text": [
      "100%|██████████| 7200/7200 [06:58<00:00, 17.19it/s]\n",
      "100%|██████████| 3/3 [23:53<00:00, 477.71s/it]"
     ]
    },
    {
     "name": "stdout",
     "output_type": "stream",
     "text": [
      "daily-0.5406388320166617\n"
     ]
    },
    {
     "name": "stderr",
     "output_type": "stream",
     "text": [
      "\n"
     ]
    }
   ],
   "source": [
    "# target_columns = ['building_stock_type', 'in.comstock_building_type_group_com',\n",
    "#        'in.heating_fuel_com', 'in.hvac_category_com',\n",
    "#        'in.number_of_stories_com', 'in.ownership_type_com', 'in.vintage_com',\n",
    "#        'in.wall_construction_type_com', 'in.tstat_clg_sp_f..f_com',\n",
    "#        'in.tstat_htg_sp_f..f_com', 'in.weekday_opening_time..hr_com',\n",
    "#        'in.weekday_operating_hours..hr_com', 'in.bedrooms_res',\n",
    "#        'in.cooling_setpoint_res', 'in.heating_setpoint_res',\n",
    "#        'in.geometry_building_type_recs_res', 'in.geometry_floor_area_res',\n",
    "#        'in.geometry_foundation_type_res', 'in.geometry_wall_type_res',\n",
    "#        'in.heating_fuel_res', 'in.income_res', 'in.roof_material_res',\n",
    "#        'in.tenure_res', 'in.vacancy_status_res', 'in.vintage_res']\n",
    "load_filepath_labels = os.path.join(os.getcwd(),'building-instinct-train-label', 'train_label.parquet')#path to the train label file\n",
    "df_targets = pd.read_parquet(load_filepath_labels, engine='pyarrow')\n",
    "target_columns = df_targets.columns\n",
    "for type in tqdm([\"monthly\", \"weekly\", \"daily\"]):\n",
    "       #     df = pd.read_csv(f'{base_path}\\preprocessed_data\\{type}_train.csv')\n",
    "       #     df_targets = df[target_columns]\n",
    "       #     df_features = df[df.columns.difference(target_columns)].astype(float)\n",
    "       file_path = base_path + data_path + r\"\\building-instinct-train-data\"\n",
    "       df_features = Preprocessor.calculate_average_energy_consumption(file_path, type=type)\n",
    "       df_features.sort_index(inplace=True)\n",
    "\n",
    "       X_train, X_test, y_train, y_test = train_test_split(df_features, df_targets, test_size=0.2, random_state=42)\n",
    "       X_train = X_train.astype(float)\n",
    "       X_test = X_test.astype(float)\n",
    "       classifier_list = train_model(X = X_train, y = y_train)\n",
    "       y_pred = get_pred(X = X_test, classifier_list = classifier_list, column_list = target_columns)\n",
    "       f1_score = calculate_hierarchical_f1_score(y_test, y_pred)\n",
    "       print(f\"{type}-{f1_score}\")"
   ]
  },
  {
   "cell_type": "code",
   "execution_count": 26,
   "metadata": {},
   "outputs": [
    {
     "name": "stderr",
     "output_type": "stream",
     "text": [
      "100%|██████████| 7200/7200 [04:40<00:00, 25.64it/s]\n"
     ]
    }
   ],
   "source": [
    "type = \"monthly\"\n",
    "file_path = base_path + data_path + r\"\\building-instinct-train-data\"\n",
    "df_features = Preprocessor.calculate_average_energy_consumption(file_path, type=type)\n",
    "df_features.sort_index(inplace=True)\n",
    "\n",
    "X_train, X_test, y_train, y_test = train_test_split(df_features, df_targets, test_size=0.2, random_state=42)\n",
    "X_train = X_train.astype(float)\n",
    "X_test = X_test.astype(float)"
   ]
  },
  {
   "cell_type": "code",
   "execution_count": 29,
   "metadata": {},
   "outputs": [],
   "source": [
    "from sklearn.pipeline import Pipeline\n",
    "from sklearn.compose import ColumnTransformer\n",
    "from sklearn.preprocessing import StandardScaler, OneHotEncoder\n",
    "from sklearn.ensemble import RandomForestClassifier\n",
    "from sklearn.metrics import f1_score\n",
    "\n",
    "\n",
    "X = X_train.copy()\n",
    "y= y_train.copy()\n",
    "\n",
    "# Define column transformers for commercial and residential buildings\n",
    "transformer_commercial = ColumnTransformer([\n",
    "    ('scaler', StandardScaler(), X.columns),\n",
    "    ('encoder', OneHotEncoder(), [])\n",
    "])\n",
    "\n",
    "transformer_residential = ColumnTransformer([\n",
    "    ('scaler', StandardScaler(), X.columns),\n",
    "    ('encoder', OneHotEncoder(), [])\n",
    "])\n",
    "\n",
    "# Filter features and targets for commercial and residential buildings\n",
    "X_commercial = X[y['building_stock_type'] == 'commercial']\n",
    "X_residential = X[y['building_stock_type'] == 'residential']\n",
    "y_commercial = y[y['building_stock_type'] == 'commercial'].filter(like='_com')\n",
    "y_residential = y[y['building_stock_type'] == 'residential'].filter(like='_res')\n",
    "\n",
    "# Train classifier to predict 'building_stock_type'\n",
    "classifier_type = Pipeline([\n",
    "    ('preprocessor', ColumnTransformer([\n",
    "        ('scaler', StandardScaler(), X.columns),\n",
    "        ('encoder', OneHotEncoder(), [])\n",
    "    ])),\n",
    "    ('classifier', RandomForestClassifier(random_state=42))\n",
    "])\n",
    "classifier_type.fit(X, y['building_stock_type'])\n",
    "\n",
    "hp_params = {\"n_estimators\":2000, \"criterion\":'gini', \"max_depth\":None, \"min_samples_split\":2, \"min_samples_leaf\":1, \"min_weight_fraction_leaf\":0.0,\n",
    "            \"max_features\":'sqrt', \"max_leaf_nodes\":None, \"min_impurity_decrease\":0.0, \"bootstrap\":True, \"oob_score\":False, \"n_jobs\":None, \"random_state\":42, \n",
    "            \"verbose\":0, \"warm_start\":False, \"class_weight\":None, \"ccp_alpha\":0.0, \"max_samples\":None, \"monotonic_cst\":None}\n",
    "\n",
    "# Train separate classifiers for commercial and residential buildings\n",
    "classifier_commercial = Pipeline([\n",
    "    ('preprocessor', transformer_commercial),\n",
    "    ('classifier', RandomForestClassifier(**hp_params))\n",
    "])\n",
    "\n",
    "classifier_residential = Pipeline([\n",
    "    ('preprocessor', transformer_residential),\n",
    "    ('classifier', RandomForestClassifier(**hp_params))\n",
    "])\n",
    "\n",
    "# Train models\n",
    "classifier_commercial.fit(X_commercial, y_commercial)\n",
    "classifier_residential.fit(X_residential, y_residential)\n",
    "classifier_list = [classifier_type, classifier_residential, classifier_commercial]"
   ]
  },
  {
   "cell_type": "code",
   "execution_count": 30,
   "metadata": {},
   "outputs": [
    {
     "name": "stdout",
     "output_type": "stream",
     "text": [
      "monthly-0.5152681689480081\n"
     ]
    }
   ],
   "source": [
    "y_pred = get_pred(X = X_test, classifier_list = classifier_list, column_list = target_columns)\n",
    "f1_score = calculate_hierarchical_f1_score(y_test, y_pred)\n",
    "print(f\"{type}-{f1_score}\")"
   ]
  }
 ],
 "metadata": {
  "kernelspec": {
   "display_name": "Python 3",
   "language": "python",
   "name": "python3"
  },
  "language_info": {
   "codemirror_mode": {
    "name": "ipython",
    "version": 3
   },
   "file_extension": ".py",
   "mimetype": "text/x-python",
   "name": "python",
   "nbconvert_exporter": "python",
   "pygments_lexer": "ipython3",
   "version": "3.10.14"
  }
 },
 "nbformat": 4,
 "nbformat_minor": 2
}
